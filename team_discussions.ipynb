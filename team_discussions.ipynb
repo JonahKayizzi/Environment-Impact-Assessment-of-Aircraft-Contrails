{
 "cells": [
  {
   "cell_type": "markdown",
   "metadata": {},
   "source": [
    "This is a record of our team discussions\n",
    "\n",
    "Project Idea\n",
    "## Environment Impact assessment of aircraft contrails\n",
    "\n",
    "Team members\n",
    "\n",
    "- Alice Mugengano MSc IT\n",
    "- Baimam Boukar MSc IT\n",
    "- Jonathan Kayizzi MSc ECE"
   ]
  },
  {
   "cell_type": "markdown",
   "metadata": {},
   "source": [
    "#### 11/02/2025 - Tuesday\n",
    "\n",
    "### Advice from Prof Moise\n",
    "\n",
    "Scoping of the project and concern of contribution to knowledge\n",
    "\n",
    "Possible areas of focus\n",
    "- Improving model input\n",
    "- Improving model output and derivation of results from the output\n",
    "- Essembling (Likely to find thousands of essembles)\n",
    "- Improving the model (Focus on the performance metrics such as error terms)\n",
    "- Geographical scope\n",
    "\n",
    "### Discussion Jonah & Baimam\n",
    "\n",
    "Improving model input\n",
    "- Geographical scope. Google Research was limited to North America, and recommends further research for Africa & Europe. The presents a possible direction of focussion on Africa\n",
    "  - Involves identifying satellite datasets suitable for Africa\n",
    "  - Identify the limitations of the Geos satellite\n",
    "- Might also focus on areas in Africa that are susceptible to heavy cloud formation and hence contrail formation. Such areas could be costal regions, mountains, lakes and dense forests. \n",
    "  - Identify the prevalant conditions in those areas that contribute to contrail formation that cna be added to the model input or improve model input\n",
    "- Focus on Rwanda and use the provided Rwanda weather dataset\n",
    "\n",
    "Essembles\n",
    "- *** TO READ *** Sample essemble research https://www.techrxiv.org/doi/full/10.36227/techrxiv.173749955.56653418\n"
   ]
  }
 ],
 "metadata": {
  "language_info": {
   "name": "python"
  }
 },
 "nbformat": 4,
 "nbformat_minor": 2
}
