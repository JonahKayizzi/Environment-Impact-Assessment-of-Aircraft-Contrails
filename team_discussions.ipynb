{
 "cells": [
  {
   "cell_type": "markdown",
   "metadata": {},
   "source": [
    "This is a record of our team discussions\n",
    "\n",
    "Project Idea\n",
    "## Environment Impact assessment of aircraft contrails\n",
    "\n",
    "Team members\n",
    "\n",
    "- Alice Mugengano MSc IT\n",
    "- Baimam Boukar MSc IT\n",
    "- Jonathan Kayizzi MSc ECE"
   ]
  },
  {
   "cell_type": "markdown",
   "metadata": {},
   "source": [
    "#### 11/02/2025 - Tuesday\n",
    "\n",
    "### Advice from Prof Moise\n",
    "\n",
    "Scoping of the project and concern of contribution to knowledge\n",
    "\n",
    "Possible areas of focus\n",
    "- Improving model input\n",
    "- Improving model output and derivation of results from the output\n",
    "- Essembling (Likely to find thousands of essembles)\n",
    "- Improving the model (Focus on the performance metrics such as error terms)\n",
    "- Geographical scope\n",
    "\n",
    "### Discussion Jonah & Baimam\n",
    "\n",
    "Improving model input\n",
    "- Geographical scope. Google Research was limited to North America, and recommends further research for Africa & Europe. The presents a possible direction of focussion on Africa\n",
    "  - Involves identifying satellite datasets suitable for Africa\n",
    "  - Identify the limitations of the Geos satellite\n",
    "- Might also focus on areas in Africa that are susceptible to heavy cloud formation and hence contrail formation. Such areas could be costal regions, mountains, lakes and dense forests. \n",
    "  - Identify the prevalant conditions in those areas that contribute to contrail formation that cna be added to the model input or improve model input\n",
    "- Focus on Rwanda and use the provided Rwanda weather dataset\n",
    "\n",
    "Essembles\n",
    "- *** TO READ *** Sample essemble research https://www.techrxiv.org/doi/full/10.36227/techrxiv.173749955.56653418\n"
   ]
  },
  {
   "cell_type": "markdown",
   "metadata": {},
   "source": [
    "#### 12/02/2025 - Wednesday\n",
    "\n",
    "### Discussion with Christine\n",
    "\n",
    "Other research area of focus and queries\n",
    "- Climate change. Environmental pollution monitoring\n",
    "  - Air quality (saturate area) available datasets\n",
    "  - Water quality and pollution (available datasets)\n",
    "  - Soli quality and polution (commercial datasets)\n",
    "- Urban planning, Enchroachment prediction using satellite data\n",
    "- Predictors for traffic flow planning and management using satellite and street camera feeds\n",
    "\n",
    "Other queries\n",
    "- Available open source datasets\n",
    "  - WAZE\n",
    "  - https://www.planet.com/\n",
    "  - https://africa-geospatial.com/\n",
    "  - https://www.africageoportal.com/"
   ]
  },
  {
   "cell_type": "markdown",
   "metadata": {},
   "source": [
    "#### 13/02/2025\n",
    "\n",
    "### Discussion Jonah and Alice\n",
    "\n",
    "Exploring a possible area for model input improvement \n",
    "- Africa, areas susceptible for contrail and cloud formation and alternative data sources for improving humudity measurement. Alice to consult with TA and Supervisor"
   ]
  },
  {
   "cell_type": "markdown",
   "metadata": {},
   "source": [
    "#### Generative AI prompt for reference\n",
    "Deducing humidity measurements from proximity to water bodies, forests and mountains\n",
    "\n",
    "https://chatgpt.com/share/67add350-60b4-8013-b8e2-ed6a78dcce86"
   ]
  }
 ],
 "metadata": {
  "language_info": {
   "name": "python"
  }
 },
 "nbformat": 4,
 "nbformat_minor": 2
}
