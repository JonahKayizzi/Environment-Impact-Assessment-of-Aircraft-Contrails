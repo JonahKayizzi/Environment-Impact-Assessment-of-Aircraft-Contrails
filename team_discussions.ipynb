{
 "cells": [
  {
   "cell_type": "markdown",
   "metadata": {},
   "source": [
    "This is a record of our team discussions\n",
    "\n",
    "Project Idea\n",
    "## Environment Impact assessment of aircraft contrails\n",
    "\n",
    "Team members\n",
    "\n",
    "- Alice Mugengano MSc IT\n",
    "- Baimam Boukar MSc IT\n",
    "- Jonathan Kayizzi MSc ECE"
   ]
  },
  {
   "cell_type": "markdown",
   "metadata": {},
   "source": [
    "#### 11/02/2025 - Tuesday\n",
    "\n",
    "### Advice from Prof Moise\n",
    "\n",
    "Scoping of the project and concern of contribution to knowledge\n",
    "\n",
    "Possible areas of focus\n",
    "- Improving model input\n",
    "- Improving model output and derivation of results from the output\n",
    "- Essembling (Likely to find thousands of essembles)\n",
    "- Improving the model (Focus on the performance metrics such as error terms)\n",
    "- Geographical scope\n"
   ]
  }
 ],
 "metadata": {
  "language_info": {
   "name": "python"
  }
 },
 "nbformat": 4,
 "nbformat_minor": 2
}
