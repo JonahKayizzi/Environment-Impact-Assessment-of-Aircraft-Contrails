{
 "cells": [
  {
   "cell_type": "code",
   "execution_count": null,
   "id": "e249112b",
   "metadata": {},
   "outputs": [
    {
     "name": "stdout",
     "output_type": "stream",
     "text": [
      "Collecting colabcode\n",
      "  Downloading colabcode-0.3.0-py3-none-any.whl.metadata (2.5 kB)\n",
      "Collecting pyngrok>=5.0.0 (from colabcode)\n",
      "  Downloading pyngrok-7.2.5-py3-none-any.whl.metadata (8.9 kB)\n",
      "Collecting nest-asyncio==1.4.3 (from colabcode)\n",
      "  Downloading nest_asyncio-1.4.3-py3-none-any.whl.metadata (2.6 kB)\n",
      "Collecting uvicorn==0.13.1 (from colabcode)\n",
      "  Downloading uvicorn-0.13.1-py3-none-any.whl.metadata (4.6 kB)\n",
      "INFO: pip is looking at multiple versions of colabcode to determine which version is compatible with other requirements. This could take a while.\n",
      "Collecting colabcode\n",
      "  Downloading colabcode-0.2.0-py3-none-any.whl.metadata (2.4 kB)\n",
      "Collecting uvicorn==0.13.1 (from colabcode)\n",
      "  Using cached uvicorn-0.13.1-py3-none-any.whl.metadata (4.6 kB)\n",
      "Collecting colabcode\n",
      "  Downloading colabcode-0.1.2-py3-none-any.whl.metadata (2.4 kB)\n",
      "Collecting uvicorn==0.13.1 (from colabcode)\n",
      "  Using cached uvicorn-0.13.1-py3-none-any.whl.metadata (4.6 kB)\n",
      "Collecting colabcode\n",
      "  Downloading colabcode-0.1.1-py3-none-any.whl.metadata (2.3 kB)\n",
      "Requirement already satisfied: PyYAML>=5.1 in c:\\users\\student\\appdata\\local\\packages\\pythonsoftwarefoundation.python.3.11_qbz5n2kfra8p0\\localcache\\local-packages\\python311\\site-packages (from pyngrok>=5.0.0->colabcode) (6.0.2)\n",
      "Downloading colabcode-0.1.1-py3-none-any.whl (4.6 kB)\n",
      "Downloading pyngrok-7.2.5-py3-none-any.whl (23 kB)\n",
      "Installing collected packages: pyngrok, colabcode\n",
      "Successfully installed colabcode-0.1.1 pyngrok-7.2.5\n",
      "Note: you may need to restart the kernel to use updated packages.\n"
     ]
    },
    {
     "name": "stderr",
     "output_type": "stream",
     "text": [
      "WARNING: Ignoring version 0.13.1 of uvicorn since it has invalid metadata:\n",
      "Requested uvicorn==0.13.1 from https://files.pythonhosted.org/packages/ef/67/546c35e9fffb585ea0608ba3bdcafe17ae402e304367203d0b08d6c23051/uvicorn-0.13.1-py3-none-any.whl (from colabcode) has invalid metadata: .* suffix can only be used with `==` or `!=` operators\n",
      "    python-dotenv (>=0.13.*) ; extra == 'standard'\n",
      "                   ~~~~~~~^\n",
      "Please use pip<24.1 if you need to use this version.\n",
      "WARNING: Ignoring version 0.13.1 of uvicorn since it has invalid metadata:\n",
      "Requested uvicorn==0.13.1 from https://files.pythonhosted.org/packages/ef/67/546c35e9fffb585ea0608ba3bdcafe17ae402e304367203d0b08d6c23051/uvicorn-0.13.1-py3-none-any.whl (from colabcode) has invalid metadata: .* suffix can only be used with `==` or `!=` operators\n",
      "    python-dotenv (>=0.13.*) ; extra == 'standard'\n",
      "                   ~~~~~~~^\n",
      "Please use pip<24.1 if you need to use this version.\n",
      "WARNING: Ignoring version 0.13.1 of uvicorn since it has invalid metadata:\n",
      "Requested uvicorn==0.13.1 from https://files.pythonhosted.org/packages/ef/67/546c35e9fffb585ea0608ba3bdcafe17ae402e304367203d0b08d6c23051/uvicorn-0.13.1-py3-none-any.whl (from colabcode) has invalid metadata: .* suffix can only be used with `==` or `!=` operators\n",
      "    python-dotenv (>=0.13.*) ; extra == 'standard'\n",
      "                   ~~~~~~~^\n",
      "Please use pip<24.1 if you need to use this version.\n"
     ]
    },
    {
     "ename": "",
     "evalue": "",
     "output_type": "error",
     "traceback": [
      "\u001b[1;31mThe Kernel crashed while executing code in the current cell or a previous cell. \n",
      "\u001b[1;31mPlease review the code in the cell(s) to identify a possible cause of the failure. \n",
      "\u001b[1;31mClick <a href='https://aka.ms/vscodeJupyterKernelCrash'>here</a> for more info. \n",
      "\u001b[1;31mView Jupyter <a href='command:jupyter.viewOutput'>log</a> for further details."
     ]
    }
   ],
   "source": [
    " %pip install colabcode"
   ]
  },
  {
   "cell_type": "code",
   "execution_count": null,
   "id": "fd3bf0ca",
   "metadata": {},
   "outputs": [],
   "source": []
  }
 ],
 "metadata": {
  "kernelspec": {
   "display_name": "Python 3",
   "language": "python",
   "name": "python3"
  },
  "language_info": {
   "codemirror_mode": {
    "name": "ipython",
    "version": 3
   },
   "file_extension": ".py",
   "mimetype": "text/x-python",
   "name": "python",
   "nbconvert_exporter": "python",
   "pygments_lexer": "ipython3",
   "version": "3.11.9"
  }
 },
 "nbformat": 4,
 "nbformat_minor": 5
}
